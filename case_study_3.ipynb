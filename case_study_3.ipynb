{
  "nbformat": 4,
  "nbformat_minor": 0,
  "metadata": {
    "colab": {
      "provenance": [],
      "authorship_tag": "ABX9TyPz8vMcIVxwanaUr726glVB",
      "include_colab_link": true
    },
    "kernelspec": {
      "name": "python3",
      "display_name": "Python 3"
    },
    "language_info": {
      "name": "python"
    }
  },
  "cells": [
    {
      "cell_type": "markdown",
      "metadata": {
        "id": "view-in-github",
        "colab_type": "text"
      },
      "source": [
        "<a href=\"https://colab.research.google.com/github/Shivaboii/Case-study-1-python/blob/main/case_study_3.ipynb\" target=\"_parent\"><img src=\"https://colab.research.google.com/assets/colab-badge.svg\" alt=\"Open In Colab\"/></a>"
      ]
    },
    {
      "cell_type": "code",
      "source": [
        "import random\n",
        "import time\n",
        "\n",
        "def monitor_temperature(lower_limit, upper_limit):\n",
        "    while True:\n",
        "        current_temp = random.uniform(lower_limit - 10, upper_limit + 10)\n",
        "        print(f\"Current Temperature: {current_temp:.2f}°C\")\n",
        "\n",
        "        if current_temp < lower_limit:\n",
        "            print(\"⚠ ALERT: Temperature is too LOW! ❄\")\n",
        "        elif current_temp > upper_limit:\n",
        "            print(\"⚠ ALERT: Temperature is too HIGH! 🔥\")\n",
        "\n",
        "        time.sleep(2)\n",
        "\n",
        "\n",
        "lower_range = float(input(\"Enter lower temperature limit (°C): \"))\n",
        "upper_range = float(input(\"Enter upper temperature limit (°C): \"))\n",
        "\n",
        "print(\"\\nStarting Temperature Monitoring...\\n\")\n",
        "monitor_temperature(lower_range, upper_range)"
      ],
      "metadata": {
        "colab": {
          "base_uri": "https://localhost:8080/",
          "height": 0
        },
        "id": "DVriMmEOiqc4",
        "outputId": "0105a2b3-14e3-4613-ad3d-ce19666431b2"
      },
      "execution_count": null,
      "outputs": [
        {
          "output_type": "stream",
          "name": "stdout",
          "text": [
            "Enter lower temperature limit (°C): 0\n",
            "Enter upper temperature limit (°C): 45\n",
            "\n",
            "Starting Temperature Monitoring...\n",
            "\n",
            "Current Temperature: 51.69°C\n",
            "⚠ ALERT: Temperature is too HIGH! 🔥\n",
            "Current Temperature: 12.46°C\n",
            "Current Temperature: -3.46°C\n",
            "⚠ ALERT: Temperature is too LOW! ❄\n",
            "Current Temperature: 19.18°C\n",
            "Current Temperature: 0.13°C\n",
            "Current Temperature: -3.83°C\n",
            "⚠ ALERT: Temperature is too LOW! ❄\n",
            "Current Temperature: 40.63°C\n",
            "Current Temperature: 37.76°C\n",
            "Current Temperature: 33.40°C\n",
            "Current Temperature: 51.04°C\n",
            "⚠ ALERT: Temperature is too HIGH! 🔥\n",
            "Current Temperature: 5.66°C\n",
            "Current Temperature: 39.99°C\n",
            "Current Temperature: 41.35°C\n",
            "Current Temperature: 19.37°C\n",
            "Current Temperature: 43.67°C\n",
            "Current Temperature: 0.33°C\n",
            "Current Temperature: -7.92°C\n",
            "⚠ ALERT: Temperature is too LOW! ❄\n",
            "Current Temperature: 26.99°C\n",
            "Current Temperature: 36.75°C\n",
            "Current Temperature: 33.93°C\n",
            "Current Temperature: 9.42°C\n",
            "Current Temperature: 0.91°C\n",
            "Current Temperature: 6.86°C\n",
            "Current Temperature: -5.16°C\n",
            "⚠ ALERT: Temperature is too LOW! ❄\n",
            "Current Temperature: 41.36°C\n",
            "Current Temperature: 3.90°C\n",
            "Current Temperature: 12.78°C\n",
            "Current Temperature: 31.21°C\n",
            "Current Temperature: 19.81°C\n",
            "Current Temperature: 39.32°C\n",
            "Current Temperature: 38.63°C\n",
            "Current Temperature: 32.55°C\n",
            "Current Temperature: 25.70°C\n",
            "Current Temperature: 1.54°C\n",
            "Current Temperature: 49.22°C\n",
            "⚠ ALERT: Temperature is too HIGH! 🔥\n",
            "Current Temperature: -6.80°C\n",
            "⚠ ALERT: Temperature is too LOW! ❄\n",
            "Current Temperature: 8.37°C\n",
            "Current Temperature: 49.47°C\n",
            "⚠ ALERT: Temperature is too HIGH! 🔥\n",
            "Current Temperature: -0.42°C\n",
            "⚠ ALERT: Temperature is too LOW! ❄\n",
            "Current Temperature: -5.90°C\n",
            "⚠ ALERT: Temperature is too LOW! ❄\n",
            "Current Temperature: 13.18°C\n",
            "Current Temperature: 43.74°C\n",
            "Current Temperature: 26.84°C\n",
            "Current Temperature: 34.17°C\n",
            "Current Temperature: 14.58°C\n",
            "Current Temperature: 40.97°C\n",
            "Current Temperature: 2.77°C\n",
            "Current Temperature: -6.95°C\n",
            "⚠ ALERT: Temperature is too LOW! ❄\n",
            "Current Temperature: 38.80°C\n",
            "Current Temperature: 29.46°C\n",
            "Current Temperature: 30.49°C\n",
            "Current Temperature: 45.99°C\n",
            "⚠ ALERT: Temperature is too HIGH! 🔥\n",
            "Current Temperature: 9.00°C\n",
            "Current Temperature: 0.26°C\n",
            "Current Temperature: 18.85°C\n",
            "Current Temperature: 29.31°C\n",
            "Current Temperature: 36.29°C\n",
            "Current Temperature: 46.72°C\n",
            "⚠ ALERT: Temperature is too HIGH! 🔥\n",
            "Current Temperature: 24.18°C\n",
            "Current Temperature: -8.15°C\n",
            "⚠ ALERT: Temperature is too LOW! ❄\n",
            "Current Temperature: 38.61°C\n",
            "Current Temperature: 32.01°C\n",
            "Current Temperature: 48.42°C\n",
            "⚠ ALERT: Temperature is too HIGH! 🔥\n",
            "Current Temperature: 12.79°C\n",
            "Current Temperature: 10.63°C\n",
            "Current Temperature: 14.60°C\n",
            "Current Temperature: 31.27°C\n",
            "Current Temperature: 16.41°C\n",
            "Current Temperature: -8.77°C\n",
            "⚠ ALERT: Temperature is too LOW! ❄\n",
            "Current Temperature: 39.98°C\n",
            "Current Temperature: 1.10°C\n",
            "Current Temperature: -0.75°C\n",
            "⚠ ALERT: Temperature is too LOW! ❄\n",
            "Current Temperature: 1.35°C\n"
          ]
        }
      ]
    }
  ]
}